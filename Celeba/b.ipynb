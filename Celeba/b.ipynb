{
 "cells": [
  {
   "cell_type": "code",
   "execution_count": 5,
   "metadata": {},
   "outputs": [],
   "source": [
    "import time\n",
    "import torch\n",
    "import torchvision.utils\n",
    "from gaze_estimation import (GazeEstimationMethod, create_dataloader,\n",
    "                             create_logger, create_loss, create_model,\n",
    "                             create_optimizer, create_scheduler,\n",
    "                             create_tensorboard_writer)\n",
    "from gaze_estimation.utils import (AverageMeter, compute_angle_error,\n",
    "                                   create_train_output_dir, load_config,\n",
    "                                   save_config, set_seeds, setup_cudnn)\n",
    "from gaze_estimation.config import get_default_config \n",
    "from gaze_estimation.datasets import create_dataset\n",
    "from torch.utils.data import DataLoader"
   ]
  },
  {
   "cell_type": "code",
   "execution_count": 11,
   "metadata": {},
   "outputs": [],
   "source": [
    "config = get_default_config()\n",
    "config.merge_from_file('configs/mpiifacegaze/alexnet_train.yaml')\n",
    "config.freeze()"
   ]
  },
  {
   "cell_type": "code",
   "execution_count": 13,
   "metadata": {},
   "outputs": [],
   "source": [
    "train_dataset, val_dataset = create_dataset(config, True, [1,4,5,7,13])"
   ]
  },
  {
   "cell_type": "code",
   "execution_count": 19,
   "metadata": {},
   "outputs": [
    {
     "data": {
      "text/plain": [
       "torch.Size([3, 448, 448])"
      ]
     },
     "execution_count": 19,
     "metadata": {},
     "output_type": "execute_result"
    }
   ],
   "source": [
    "train_dataset[0][0].shape"
   ]
  },
  {
   "cell_type": "code",
   "execution_count": 5,
   "metadata": {},
   "outputs": [],
   "source": [
    "train_dataset, val_dataset = create_dataset(config, True, [0,2,3,6,8,9,10,11,12,14])\n",
    "train_loader = DataLoader(\n",
    "    train_dataset,\n",
    "    batch_size=config.train.batch_size,\n",
    "    shuffle=True,\n",
    "    num_workers=config.train.train_dataloader.num_workers,\n",
    "    pin_memory=config.train.train_dataloader.pin_memory,\n",
    "    drop_last=config.train.train_dataloader.drop_last,\n",
    ")\n",
    "val_loader = DataLoader(\n",
    "    val_dataset,\n",
    "    batch_size=config.train.batch_size,\n",
    "    shuffle=False,\n",
    "    num_workers=config.train.val_dataloader.num_workers,\n",
    "    pin_memory=config.train.val_dataloader.pin_memory,\n",
    "    drop_last=False,\n",
    ")"
   ]
  },
  {
   "cell_type": "code",
   "execution_count": null,
   "metadata": {},
   "outputs": [],
   "source": [
    "for img, pose, gaze in train_loader:\n",
    "    "
   ]
  },
  {
   "cell_type": "code",
   "execution_count": 7,
   "metadata": {},
   "outputs": [],
   "source": [
    "images, poses, gazes = next(iter(train_loader))"
   ]
  },
  {
   "cell_type": "code",
   "execution_count": 8,
   "metadata": {},
   "outputs": [],
   "source": [
    "import matplotlib.pyplot as plt"
   ]
  },
  {
   "cell_type": "code",
   "execution_count": 9,
   "metadata": {},
   "outputs": [
    {
     "data": {
      "text/plain": [
       "<matplotlib.image.AxesImage at 0x25061fd3070>"
      ]
     },
     "execution_count": 9,
     "metadata": {},
     "output_type": "execute_result"
    },
    {
     "data": {
      "image/png": "[encoded data removed]",
      "text/plain": [
       "<Figure size 640x480 with 1 Axes>"
      ]
     },
     "metadata": {},
     "output_type": "display_data"
    }
   ],
   "source": [
    "plt.imshow(images[0][0])"
   ]
  }
 ],
 "metadata": {
  "kernelspec": {
   "display_name": "torch",
   "language": "python",
   "name": "python3"
  },
  "language_info": {
   "codemirror_mode": {
    "name": "ipython",
    "version": 3
   },
   "file_extension": ".py",
   "mimetype": "text/x-python",
   "name": "python",
   "nbconvert_exporter": "python",
   "pygments_lexer": "ipython3",
   "version": "3.10.8"
  },
  "orig_nbformat": 4,
  "vscode": {
   "interpreter": {
    "hash": "117e442dca80433ebd14c647c5435de0b3bd3a721296d97cd0475c1b541bf910"
   }
  }
 },
 "nbformat": 4,
 "nbformat_minor": 2
}
