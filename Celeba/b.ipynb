{
 "cells": [
  {
   "cell_type": "code",
   "execution_count": 1,
   "metadata": {},
   "outputs": [
    {
     "name": "stderr",
     "output_type": "stream",
     "text": [
      "d:\\conda\\envs\\torch\\lib\\site-packages\\tqdm\\auto.py:22: TqdmWarning: IProgress not found. Please update jupyter and ipywidgets. See https://ipywidgets.readthedocs.io/en/stable/user_install.html\n",
      "  from .autonotebook import tqdm as notebook_tqdm\n"
     ]
    }
   ],
   "source": [
    "import time\n",
    "import torch\n",
    "import torchvision.utils\n",
    "from gaze_estimation import (GazeEstimationMethod, create_dataloader,\n",
    "                             create_logger, create_loss, create_model,\n",
    "                             create_optimizer, create_scheduler,\n",
    "                             create_tensorboard_writer)\n",
    "from gaze_estimation.utils import (AverageMeter, compute_angle_error,\n",
    "                                   create_train_output_dir, load_config,\n",
    "                                   save_config, set_seeds, setup_cudnn)\n",
    "from gaze_estimation.config import get_default_config \n",
    "from gaze_estimation.datasets import create_dataset\n",
    "from torch.utils.data import DataLoader\n",
    "import matplotlib.pyplot as plt\n",
    "import numpy as np\n",
    "import cv2\n",
    "import torch.nn as nn\n",
    "import torchvision.utils as tvls"
   ]
  },
  {
   "cell_type": "code",
   "execution_count": 2,
   "metadata": {},
   "outputs": [],
   "source": [
    "config = get_default_config()\n",
    "config.merge_from_file('configs/mpiifacegaze/alexnet_train.yaml')\n",
    "config.freeze()"
   ]
  },
  {
   "cell_type": "code",
   "execution_count": 31,
   "metadata": {},
   "outputs": [
    {
     "data": {
      "text/plain": [
       "'data/MPIIFaceGaze.h5'"
      ]
     },
     "execution_count": 31,
     "metadata": {},
     "output_type": "execute_result"
    }
   ],
   "source": [
    "config.dataset.dataset_dir"
   ]
  },
  {
   "cell_type": "code",
   "execution_count": 32,
   "metadata": {},
   "outputs": [],
   "source": [
    "import pathlib\n",
    "dataset_dir = pathlib.Path(\"data/MPIIFaceGaze.h5\")"
   ]
  },
  {
   "cell_type": "code",
   "execution_count": 33,
   "metadata": {},
   "outputs": [
    {
     "data": {
      "text/plain": [
       "True"
      ]
     },
     "execution_count": 33,
     "metadata": {},
     "output_type": "execute_result"
    }
   ],
   "source": [
    "dataset_dir.exists()"
   ]
  },
  {
   "cell_type": "code",
   "execution_count": 4,
   "metadata": {},
   "outputs": [],
   "source": [
    "train_dataset, val_dataset = create_dataset(config, True, [0,2,3,6,8,9,10,11,12,14])"
   ]
  },
  {
   "cell_type": "code",
   "execution_count": 7,
   "metadata": {},
   "outputs": [],
   "source": [
    "train_dataset, val_dataset = create_dataset(config, False, [0,2,3,6,8,9,10,11,12,14])"
   ]
  },
  {
   "cell_type": "code",
   "execution_count": 14,
   "metadata": {},
   "outputs": [
    {
     "data": {
      "text/plain": [
       "torch.utils.data.dataset.Subset"
      ]
     },
     "execution_count": 14,
     "metadata": {},
     "output_type": "execute_result"
    }
   ],
   "source": [
    "type(train_dataset)"
   ]
  },
  {
   "cell_type": "code",
   "execution_count": 15,
   "metadata": {},
   "outputs": [],
   "source": [
    "imgs = []\n",
    "for j in range(10):\n",
    "    img = train_dataset[j]\n",
    "    imgs.append(img[0].unsqueeze(0))\n",
    "img = torch.concat(imgs)"
   ]
  },
  {
   "cell_type": "code",
   "execution_count": 16,
   "metadata": {},
   "outputs": [],
   "source": [
    "tvls.save_image(img, f'./result/face_gaze/mpiifacegaze.png', nrow=5)"
   ]
  },
  {
   "cell_type": "code",
   "execution_count": null,
   "metadata": {},
   "outputs": [],
   "source": [
    "train_dataset"
   ]
  },
  {
   "cell_type": "code",
   "execution_count": 3,
   "metadata": {},
   "outputs": [],
   "source": [
    "images, poses, gazes, ids = create_dataset(config, False, range(15), True)"
   ]
  },
  {
   "cell_type": "code",
   "execution_count": null,
   "metadata": {},
   "outputs": [],
   "source": []
  },
  {
   "cell_type": "code",
   "execution_count": 6,
   "metadata": {},
   "outputs": [],
   "source": [
    "tvls.save_image(images, 'faces.png')"
   ]
  },
  {
   "cell_type": "code",
   "execution_count": 45,
   "metadata": {},
   "outputs": [],
   "source": [
    "img = train_dataset[0][0][0,:,:]"
   ]
  },
  {
   "cell_type": "code",
   "execution_count": 48,
   "metadata": {},
   "outputs": [],
   "source": [
    "img = cv2.resize(train_dataset[0][0][0,:,:].numpy(), (64,64))"
   ]
  },
  {
   "cell_type": "code",
   "execution_count": 49,
   "metadata": {},
   "outputs": [
    {
     "data": {
      "text/plain": [
       "<matplotlib.image.AxesImage at 0x16c962f2050>"
      ]
     },
     "execution_count": 49,
     "metadata": {},
     "output_type": "execute_result"
    },
    {
     "data": {
      "image/png": "[encoded data removed]",
      "text/plain": [
       "<Figure size 640x480 with 1 Axes>"
      ]
     },
     "metadata": {},
     "output_type": "display_data"
    }
   ],
   "source": [
    "plt.imshow(img, cmap='gray')"
   ]
  },
  {
   "cell_type": "code",
   "execution_count": 4,
   "metadata": {},
   "outputs": [],
   "source": [
    "train_dataset, val_dataset = create_dataset(config, True, [0,2,3,6,8,9,10,11,12,14])\n",
    "train_loader = DataLoader(\n",
    "    train_dataset,\n",
    "    batch_size=config.train.batch_size,\n",
    "    shuffle=True,\n",
    "    num_workers=config.train.train_dataloader.num_workers,\n",
    "    pin_memory=config.train.train_dataloader.pin_memory,\n",
    "    drop_last=config.train.train_dataloader.drop_last,\n",
    ")\n",
    "val_loader = DataLoader(\n",
    "    val_dataset,\n",
    "    batch_size=config.train.batch_size,\n",
    "    shuffle=False,\n",
    "    num_workers=config.train.val_dataloader.num_workers,\n",
    "    pin_memory=config.train.val_dataloader.pin_memory,\n",
    "    drop_last=False,\n",
    ")"
   ]
  },
  {
   "cell_type": "code",
   "execution_count": 5,
   "metadata": {},
   "outputs": [],
   "source": [
    "images, poses, gazes = next(iter(train_loader))"
   ]
  },
  {
   "cell_type": "code",
   "execution_count": 12,
   "metadata": {},
   "outputs": [],
   "source": [
    "images = images.cuda()\n",
    "gazes = gazes.cuda()"
   ]
  },
  {
   "cell_type": "code",
   "execution_count": 11,
   "metadata": {},
   "outputs": [],
   "source": [
    "target_path = \"./result/gazeEstimater.zip\"\n",
    "T = torch.load(target_path)\n",
    "T = nn.DataParallel(T).cuda()"
   ]
  },
  {
   "cell_type": "code",
   "execution_count": 13,
   "metadata": {},
   "outputs": [
    {
     "name": "stderr",
     "output_type": "stream",
     "text": [
      "d:\\conda\\envs\\torch\\lib\\site-packages\\torch\\nn\\modules\\module.py:1117: UserWarning: Using a non-full backward hook when the forward contains multiple autograd Nodes is deprecated and will be removed in future versions. This hook will be missing some grad_input. Please use register_full_backward_hook to get the documented behavior.\n",
      "  warnings.warn(\"Using a non-full backward hook when the forward contains multiple autograd Nodes \"\n"
     ]
    },
    {
     "data": {
      "text/plain": [
       "tensor([[-0.1773,  0.0011],\n",
       "        [-0.1773,  0.0011],\n",
       "        [-0.1773,  0.0011],\n",
       "        [-0.1773,  0.0011],\n",
       "        [-0.1773,  0.0011],\n",
       "        [-0.1773,  0.0011],\n",
       "        [-0.1773,  0.0011],\n",
       "        [-0.1773,  0.0011],\n",
       "        [-0.1773,  0.0011],\n",
       "        [-0.1773,  0.0011],\n",
       "        [-0.1773,  0.0011],\n",
       "        [-0.1773,  0.0011],\n",
       "        [-0.1773,  0.0011],\n",
       "        [-0.1773,  0.0011],\n",
       "        [-0.1773,  0.0011],\n",
       "        [-0.1773,  0.0011],\n",
       "        [-0.1773,  0.0011],\n",
       "        [-0.1773,  0.0011],\n",
       "        [-0.1773,  0.0011],\n",
       "        [-0.1773,  0.0011],\n",
       "        [-0.1773,  0.0011],\n",
       "        [-0.1773,  0.0011],\n",
       "        [-0.1773,  0.0011],\n",
       "        [-0.1773,  0.0011],\n",
       "        [-0.1773,  0.0011],\n",
       "        [-0.1773,  0.0011],\n",
       "        [-0.1773,  0.0011],\n",
       "        [-0.1773,  0.0011],\n",
       "        [-0.1773,  0.0011],\n",
       "        [-0.1773,  0.0011],\n",
       "        [-0.1773,  0.0011],\n",
       "        [-0.1773,  0.0011],\n",
       "        [-0.1773,  0.0011],\n",
       "        [-0.1773,  0.0011],\n",
       "        [-0.1773,  0.0011],\n",
       "        [-0.1773,  0.0011],\n",
       "        [-0.1773,  0.0011],\n",
       "        [-0.1773,  0.0011],\n",
       "        [-0.1773,  0.0011],\n",
       "        [-0.1773,  0.0011],\n",
       "        [-0.1773,  0.0011],\n",
       "        [-0.1773,  0.0011],\n",
       "        [-0.1773,  0.0011],\n",
       "        [-0.1773,  0.0011],\n",
       "        [-0.1773,  0.0011],\n",
       "        [-0.1773,  0.0011],\n",
       "        [-0.1773,  0.0011],\n",
       "        [-0.1773,  0.0011],\n",
       "        [-0.1773,  0.0011],\n",
       "        [-0.1773,  0.0011],\n",
       "        [-0.1773,  0.0011],\n",
       "        [-0.1773,  0.0011],\n",
       "        [-0.1773,  0.0011],\n",
       "        [-0.1773,  0.0011],\n",
       "        [-0.1773,  0.0011],\n",
       "        [-0.1773,  0.0011],\n",
       "        [-0.1773,  0.0011],\n",
       "        [-0.1773,  0.0011],\n",
       "        [-0.1773,  0.0011],\n",
       "        [-0.1773,  0.0011],\n",
       "        [-0.1773,  0.0011],\n",
       "        [-0.1773,  0.0011],\n",
       "        [-0.1773,  0.0011],\n",
       "        [-0.1773,  0.0011]], device='cuda:0', grad_fn=<AddmmBackward0>)"
      ]
     },
     "execution_count": 13,
     "metadata": {},
     "output_type": "execute_result"
    }
   ],
   "source": [
    "T(images)"
   ]
  },
  {
   "cell_type": "code",
   "execution_count": 8,
   "metadata": {},
   "outputs": [],
   "source": [
    "import matplotlib.pyplot as plt"
   ]
  },
  {
   "cell_type": "code",
   "execution_count": 9,
   "metadata": {},
   "outputs": [
    {
     "data": {
      "text/plain": [
       "<matplotlib.image.AxesImage at 0x25061fd3070>"
      ]
     },
     "execution_count": 9,
     "metadata": {},
     "output_type": "execute_result"
    },
    {
     "data": {
      "image/png": "[encoded data removed]",
      "text/plain": [
       "<Figure size 640x480 with 1 Axes>"
      ]
     },
     "metadata": {},
     "output_type": "display_data"
    }
   ],
   "source": [
    "plt.imshow(images[0][0])"
   ]
  }
 ],
 "metadata": {
  "kernelspec": {
   "display_name": "torch",
   "language": "python",
   "name": "python3"
  },
  "language_info": {
   "codemirror_mode": {
    "name": "ipython",
    "version": 3
   },
   "file_extension": ".py",
   "mimetype": "text/x-python",
   "name": "python",
   "nbconvert_exporter": "python",
   "pygments_lexer": "ipython3",
   "version": "3.10.8"
  },
  "orig_nbformat": 4,
  "vscode": {
   "interpreter": {
    "hash": "117e442dca80433ebd14c647c5435de0b3bd3a721296d97cd0475c1b541bf910"
   }
  }
 },
 "nbformat": 4,
 "nbformat_minor": 2
}
